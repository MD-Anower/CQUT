{
 "cells": [
  {
   "cell_type": "markdown",
   "metadata": {},
   "source": [
    "<h1><font color = 'green'><center> Chongqing University of Technology</center></font>\n",
    "        <font color = 'green'><center>Md Anower Hossain(an hao ming)</center></font> \n",
    "        <font color = 'green'><center>Student ID: 62017010084</center></font>\n",
    "        <font color = 'green'><center>Assignment_5_Python</center></font>\n",
    "        <font color = 'green'><center>7th Semester</center></font> <br><br>\n",
    "        <font color = 'green'><center><u>Sub: Big data technology and practice</u> </center></font>\n",
    "<h1>"
   ]
  },
  {
   "cell_type": "code",
   "execution_count": 3,
   "metadata": {},
   "outputs": [],
   "source": [
    "import csv\n",
    "import numpy as np"
   ]
  },
  {
   "cell_type": "markdown",
   "metadata": {},
   "source": [
    "# <font color = 'green'>World Cup Data Analysis</font>\n"
   ]
  },
  {
   "cell_type": "code",
   "execution_count": 43,
   "metadata": {},
   "outputs": [
    {
     "data": {
      "text/html": [
       "<div>\n",
       "<style scoped>\n",
       "    .dataframe tbody tr th:only-of-type {\n",
       "        vertical-align: middle;\n",
       "    }\n",
       "\n",
       "    .dataframe tbody tr th {\n",
       "        vertical-align: top;\n",
       "    }\n",
       "\n",
       "    .dataframe thead th {\n",
       "        text-align: right;\n",
       "    }\n",
       "</style>\n",
       "<table border=\"1\" class=\"dataframe\">\n",
       "  <thead>\n",
       "    <tr style=\"text-align: right;\">\n",
       "      <th></th>\n",
       "      <th>surname</th>\n",
       "      <th>team</th>\n",
       "      <th>position</th>\n",
       "      <th>minutes</th>\n",
       "      <th>shots</th>\n",
       "      <th>passes</th>\n",
       "      <th>tackles</th>\n",
       "      <th>saves</th>\n",
       "    </tr>\n",
       "  </thead>\n",
       "  <tbody>\n",
       "    <tr>\n",
       "      <th>0</th>\n",
       "      <td>Abdoun</td>\n",
       "      <td>Algeria</td>\n",
       "      <td>midfielder</td>\n",
       "      <td>16</td>\n",
       "      <td>0</td>\n",
       "      <td>6</td>\n",
       "      <td>0</td>\n",
       "      <td>0</td>\n",
       "    </tr>\n",
       "    <tr>\n",
       "      <th>1</th>\n",
       "      <td>Belhadj</td>\n",
       "      <td>Algeria</td>\n",
       "      <td>defender</td>\n",
       "      <td>270</td>\n",
       "      <td>1</td>\n",
       "      <td>146</td>\n",
       "      <td>8</td>\n",
       "      <td>0</td>\n",
       "    </tr>\n",
       "  </tbody>\n",
       "</table>\n",
       "</div>"
      ],
      "text/plain": [
       "   surname     team    position  minutes  shots  passes  tackles  saves\n",
       "0   Abdoun  Algeria  midfielder       16      0       6        0      0\n",
       "1  Belhadj  Algeria    defender      270      1     146        8      0"
      ]
     },
     "execution_count": 43,
     "metadata": {},
     "output_type": "execute_result"
    }
   ],
   "source": [
    "import pandas as pd\n",
    "df = pd.read_csv(\"players.csv\")\n",
    "df.head(2)"
   ]
  },
  {
   "cell_type": "code",
   "execution_count": 44,
   "metadata": {},
   "outputs": [
    {
     "data": {
      "text/html": [
       "<div>\n",
       "<style scoped>\n",
       "    .dataframe tbody tr th:only-of-type {\n",
       "        vertical-align: middle;\n",
       "    }\n",
       "\n",
       "    .dataframe tbody tr th {\n",
       "        vertical-align: top;\n",
       "    }\n",
       "\n",
       "    .dataframe thead th {\n",
       "        text-align: right;\n",
       "    }\n",
       "</style>\n",
       "<table border=\"1\" class=\"dataframe\">\n",
       "  <thead>\n",
       "    <tr style=\"text-align: right;\">\n",
       "      <th></th>\n",
       "      <th>team</th>\n",
       "      <th>ranking</th>\n",
       "      <th>games</th>\n",
       "      <th>wins</th>\n",
       "      <th>draws</th>\n",
       "      <th>losses</th>\n",
       "      <th>goalsFor</th>\n",
       "      <th>goalsAgainst</th>\n",
       "      <th>yellowCards</th>\n",
       "      <th>redCards</th>\n",
       "    </tr>\n",
       "  </thead>\n",
       "  <tbody>\n",
       "    <tr>\n",
       "      <th>0</th>\n",
       "      <td>Brazil</td>\n",
       "      <td>1</td>\n",
       "      <td>5</td>\n",
       "      <td>3</td>\n",
       "      <td>1</td>\n",
       "      <td>1</td>\n",
       "      <td>9</td>\n",
       "      <td>4</td>\n",
       "      <td>7</td>\n",
       "      <td>2</td>\n",
       "    </tr>\n",
       "    <tr>\n",
       "      <th>1</th>\n",
       "      <td>Spain</td>\n",
       "      <td>2</td>\n",
       "      <td>6</td>\n",
       "      <td>5</td>\n",
       "      <td>0</td>\n",
       "      <td>1</td>\n",
       "      <td>7</td>\n",
       "      <td>2</td>\n",
       "      <td>3</td>\n",
       "      <td>0</td>\n",
       "    </tr>\n",
       "  </tbody>\n",
       "</table>\n",
       "</div>"
      ],
      "text/plain": [
       "     team  ranking  games  wins  draws  losses  goalsFor  goalsAgainst  \\\n",
       "0  Brazil        1      5     3      1       1         9             4   \n",
       "1   Spain        2      6     5      0       1         7             2   \n",
       "\n",
       "   yellowCards  redCards  \n",
       "0            7         2  \n",
       "1            3         0  "
      ]
     },
     "execution_count": 44,
     "metadata": {},
     "output_type": "execute_result"
    }
   ],
   "source": [
    "import pandas as pd\n",
    "df = pd.read_csv(\"Teams.csv\")\n",
    "df.head(2)"
   ]
  },
  {
   "cell_type": "code",
   "execution_count": 45,
   "metadata": {},
   "outputs": [
    {
     "data": {
      "text/html": [
       "<div>\n",
       "<style scoped>\n",
       "    .dataframe tbody tr th:only-of-type {\n",
       "        vertical-align: middle;\n",
       "    }\n",
       "\n",
       "    .dataframe tbody tr th {\n",
       "        vertical-align: top;\n",
       "    }\n",
       "\n",
       "    .dataframe thead th {\n",
       "        text-align: right;\n",
       "    }\n",
       "</style>\n",
       "<table border=\"1\" class=\"dataframe\">\n",
       "  <thead>\n",
       "    <tr style=\"text-align: right;\">\n",
       "      <th></th>\n",
       "      <th>surname</th>\n",
       "      <th>team</th>\n",
       "      <th>ranking</th>\n",
       "      <th>games</th>\n",
       "      <th>wins</th>\n",
       "      <th>draws</th>\n",
       "      <th>losses</th>\n",
       "      <th>goalsFor</th>\n",
       "      <th>goalsAgainst</th>\n",
       "      <th>yellowCards</th>\n",
       "      <th>redCards</th>\n",
       "      <th>position</th>\n",
       "      <th>minutes</th>\n",
       "      <th>shots</th>\n",
       "      <th>passes</th>\n",
       "      <th>tackles</th>\n",
       "      <th>saves</th>\n",
       "    </tr>\n",
       "  </thead>\n",
       "  <tbody>\n",
       "    <tr>\n",
       "      <th>0</th>\n",
       "      <td>Abdoun</td>\n",
       "      <td>Algeria</td>\n",
       "      <td>30</td>\n",
       "      <td>3</td>\n",
       "      <td>0</td>\n",
       "      <td>1</td>\n",
       "      <td>2</td>\n",
       "      <td>0</td>\n",
       "      <td>2</td>\n",
       "      <td>4</td>\n",
       "      <td>2</td>\n",
       "      <td>midfielder</td>\n",
       "      <td>16</td>\n",
       "      <td>0</td>\n",
       "      <td>6</td>\n",
       "      <td>0</td>\n",
       "      <td>0</td>\n",
       "    </tr>\n",
       "    <tr>\n",
       "      <th>1</th>\n",
       "      <td>Belhadj</td>\n",
       "      <td>Algeria</td>\n",
       "      <td>30</td>\n",
       "      <td>3</td>\n",
       "      <td>0</td>\n",
       "      <td>1</td>\n",
       "      <td>2</td>\n",
       "      <td>0</td>\n",
       "      <td>2</td>\n",
       "      <td>4</td>\n",
       "      <td>2</td>\n",
       "      <td>defender</td>\n",
       "      <td>270</td>\n",
       "      <td>1</td>\n",
       "      <td>146</td>\n",
       "      <td>8</td>\n",
       "      <td>0</td>\n",
       "    </tr>\n",
       "  </tbody>\n",
       "</table>\n",
       "</div>"
      ],
      "text/plain": [
       "   surname     team  ranking  games  wins  draws  losses  goalsFor  \\\n",
       "0   Abdoun  Algeria       30      3     0      1       2         0   \n",
       "1  Belhadj  Algeria       30      3     0      1       2         0   \n",
       "\n",
       "   goalsAgainst  yellowCards  redCards    position  minutes  shots  passes  \\\n",
       "0             2            4         2  midfielder       16      0       6   \n",
       "1             2            4         2    defender      270      1     146   \n",
       "\n",
       "   tackles  saves  \n",
       "0        0      0  \n",
       "1        8      0  "
      ]
     },
     "execution_count": 45,
     "metadata": {},
     "output_type": "execute_result"
    }
   ],
   "source": [
    "import pandas as pd\n",
    "df = pd.read_csv(\"playersExt.csv\")\n",
    "df.head(2)"
   ]
  },
  {
   "cell_type": "markdown",
   "metadata": {},
   "source": [
    "#### <font color = 'green'>Problem 1</font> \n",
    "What player on a team with \"ia\" in the team name played less than 200 minutes and made more than 100 passes? Print the player surname."
   ]
  },
  {
   "cell_type": "code",
   "execution_count": 4,
   "metadata": {},
   "outputs": [
    {
     "name": "stdout",
     "output_type": "stream",
     "text": [
      "Kuzmanovic\n"
     ]
    }
   ],
   "source": [
    "\n",
    "with open('players.csv','r') as f:\n",
    "    rows = csv.DictReader(f)\n",
    "    for data in rows:\n",
    "        if 'ia' in data['team'] and (int(data['minutes']) < 200 and int(data['passes'])>100):\n",
    "            print(data['surname'])"
   ]
  },
  {
   "cell_type": "markdown",
   "metadata": {},
   "source": [
    "#### <font color = 'green'>Problem 2</font> \n",
    "Which team has the highest ratio of goalsFor to goalsAgainst? Print the team only."
   ]
  },
  {
   "cell_type": "code",
   "execution_count": 5,
   "metadata": {},
   "outputs": [
    {
     "name": "stdout",
     "output_type": "stream",
     "text": [
      "Portugal\n"
     ]
    }
   ],
   "source": [
    "with open('Teams.csv','r') as f:\n",
    "    rows = csv.DictReader(f)\n",
    "    for data in rows:\n",
    "        ratio=int(data['goalsFor'])/int(data['goalsAgainst'])\n",
    "        if ratio==7:\n",
    "            print(data['team'])"
   ]
  },
  {
   "cell_type": "markdown",
   "metadata": {},
   "source": [
    "#### <font color = 'green'>Problem 3</font> \n",
    "How many players on a team with ranking <10 played more than 350 minutes?"
   ]
  },
  {
   "cell_type": "code",
   "execution_count": 6,
   "metadata": {},
   "outputs": [
    {
     "name": "stdout",
     "output_type": "stream",
     "text": [
      "54 from one file named PlayersExt\n"
     ]
    }
   ],
   "source": [
    "###### From PlayersExt File\n",
    "\n",
    "with open('playersExt.csv','r') as f:\n",
    "    rows = csv.DictReader(f)\n",
    "    count = 0\n",
    "    for data in rows:\n",
    "        if int(data['ranking'])<10 and int(data['minutes'])>350:\n",
    "            count = count+1\n",
    "    print(count,'from one file named PlayersExt')"
   ]
  },
  {
   "cell_type": "markdown",
   "metadata": {},
   "source": [
    "#### <font color = 'red'>another solution of problem 3</font> "
   ]
  },
  {
   "cell_type": "code",
   "execution_count": 7,
   "metadata": {},
   "outputs": [
    {
     "name": "stdout",
     "output_type": "stream",
     "text": [
      "129 Players \n"
     ]
    }
   ],
   "source": [
    "####### From Team and Players files\n",
    "\n",
    "with open('Teams.csv','r') as t:\n",
    "    rows = csv.DictReader(t)\n",
    "    countRank = 0\n",
    "    for data_t in rows:\n",
    "        if int(data_t['ranking'])<10 :\n",
    "            countRank+=1\n",
    "    \n",
    "    \n",
    "with open('players.csv','r') as f:\n",
    "    rows = csv.DictReader(f)\n",
    "    countMinutes = 0\n",
    "    for data in rows:\n",
    "        if int(data['minutes'])>350:\n",
    "            countMinutes = countMinutes+1\n",
    "\n",
    "print(countRank+countMinutes,'Players ')"
   ]
  },
  {
   "cell_type": "markdown",
   "metadata": {},
   "source": [
    "# <font color = 'green'>Titanic Data Analysis</font>\n",
    "Read data from file Titanic.csv"
   ]
  },
  {
   "cell_type": "markdown",
   "metadata": {},
   "source": [
    "#### <font color = 'green'>Problem 1</font> \n",
    "Write a loop that asks the user to enter an age, then returns the number of married\n",
    "women over that age who embarked in Cherbourg. Terminate the loop when the user\n",
    "enters a number that is less than 0."
   ]
  },
  {
   "cell_type": "code",
   "execution_count": null,
   "metadata": {},
   "outputs": [],
   "source": [
    "import pandas as pd\n",
    "df = pd.read_csv(\"Titanic.csv\")\n",
    "#df.head(5)"
   ]
  },
  {
   "cell_type": "code",
   "execution_count": 100,
   "metadata": {},
   "outputs": [
    {
     "name": "stdout",
     "output_type": "stream",
     "text": [
      "Enter age: 55\n",
      "2 married women whose age more than 55\n",
      "Enter age: 33\n",
      "12 married women whose age more than 33\n",
      "Enter age: 36\n",
      "12 married women whose age more than 36\n",
      "Enter age: 80\n",
      "0 married women whose age more than 80\n",
      "Enter age: 54\n",
      "2 married women whose age more than 54\n",
      "Enter age: -7\n"
     ]
    }
   ],
   "source": [
    "with open('Titanic.csv','r') as f:\n",
    "    \n",
    "    married_women = 0 \n",
    "    while True:\n",
    "        df = pd.read_csv(\"C:\\Titanic.csv\")\n",
    "        \n",
    "        with open('Titanic.csv','r') as f:\n",
    "            rows = csv.DictReader(f)\n",
    "            \n",
    "            input_age = input('Enter age: ')\n",
    "            \n",
    "            if input_age < \"0\":\n",
    "                break\n",
    "            married_women = 0\n",
    "            for data in rows:\n",
    "                if 'Mrs.' in data['first'] and 'Cherbourg' in data['embarked'] and data['age']>input_age:\n",
    "                    married_women = married_women+1\n",
    "            print(married_women,'married women whose age more than',input_age,)\n",
    "               \n",
    "    "
   ]
  },
  {
   "cell_type": "markdown",
   "metadata": {},
   "source": [
    "# <font color = 'green'>World Cup Data Visualization</font>"
   ]
  },
  {
   "cell_type": "markdown",
   "metadata": {},
   "source": [
    "#### <font color = 'green'>Problem 1</font> \n",
    "Create a scatterplot of players showing passes made (y-axis) versus minutes played\n",
    "(x-axis). Color each player based on their position (goalkeeper, defender, midfielder,\n",
    "forward)."
   ]
  },
  {
   "cell_type": "code",
   "execution_count": 2,
   "metadata": {},
   "outputs": [
    {
     "data": {
      "text/html": [
       "<div>\n",
       "<style scoped>\n",
       "    .dataframe tbody tr th:only-of-type {\n",
       "        vertical-align: middle;\n",
       "    }\n",
       "\n",
       "    .dataframe tbody tr th {\n",
       "        vertical-align: top;\n",
       "    }\n",
       "\n",
       "    .dataframe thead th {\n",
       "        text-align: right;\n",
       "    }\n",
       "</style>\n",
       "<table border=\"1\" class=\"dataframe\">\n",
       "  <thead>\n",
       "    <tr style=\"text-align: right;\">\n",
       "      <th></th>\n",
       "      <th>surname</th>\n",
       "      <th>team</th>\n",
       "      <th>position</th>\n",
       "      <th>minutes</th>\n",
       "      <th>shots</th>\n",
       "      <th>passes</th>\n",
       "      <th>tackles</th>\n",
       "      <th>saves</th>\n",
       "    </tr>\n",
       "  </thead>\n",
       "  <tbody>\n",
       "    <tr>\n",
       "      <th>0</th>\n",
       "      <td>Abdoun</td>\n",
       "      <td>Algeria</td>\n",
       "      <td>midfielder</td>\n",
       "      <td>16</td>\n",
       "      <td>0</td>\n",
       "      <td>6</td>\n",
       "      <td>0</td>\n",
       "      <td>0</td>\n",
       "    </tr>\n",
       "    <tr>\n",
       "      <th>1</th>\n",
       "      <td>Belhadj</td>\n",
       "      <td>Algeria</td>\n",
       "      <td>defender</td>\n",
       "      <td>270</td>\n",
       "      <td>1</td>\n",
       "      <td>146</td>\n",
       "      <td>8</td>\n",
       "      <td>0</td>\n",
       "    </tr>\n",
       "  </tbody>\n",
       "</table>\n",
       "</div>"
      ],
      "text/plain": [
       "   surname     team    position  minutes  shots  passes  tackles  saves\n",
       "0   Abdoun  Algeria  midfielder       16      0       6        0      0\n",
       "1  Belhadj  Algeria    defender      270      1     146        8      0"
      ]
     },
     "execution_count": 2,
     "metadata": {},
     "output_type": "execute_result"
    }
   ],
   "source": [
    "import pandas as pd\n",
    "df = pd.read_csv(\"players.csv\")\n",
    "df.head(2)"
   ]
  },
  {
   "cell_type": "code",
   "execution_count": 4,
   "metadata": {},
   "outputs": [
    {
     "data": {
      "image/png": "[encoded data removed]",
      "text/plain": [
       "<Figure size 432x288 with 1 Axes>"
      ]
     },
     "metadata": {
      "needs_background": "light"
     },
     "output_type": "display_data"
    }
   ],
   "source": [
    "import matplotlib.pyplot as plt\n",
    "%matplotlib inline\n",
    "import pandas as pd\n",
    "df = pd.read_csv(\"players.csv\")\n",
    "\n",
    "with open('Players.csv','r') as p:\n",
    "    rows = csv.DictReader(p)\n",
    "\n",
    "    passes = []\n",
    "    minutes = []\n",
    "    colors = []\n",
    "    for data_t in rows:\n",
    "        passes.append(float(data_t['passes']))\n",
    "        minutes.append(float(data_t['minutes']))\n",
    "        \n",
    "        if 'midfielder' in data_t['position'] :\n",
    "            colors.append('blue')\n",
    "        elif 'defender' in data_t['position'] :\n",
    "            colors.append('red')\n",
    "        elif 'goalkeeper' in data_t['position'] :\n",
    "            colors.append('magenta')\n",
    "        elif 'forward' in data_t['position'] :\n",
    "            colors.append('green')\n",
    "        else: colors.append('yellow')\n",
    "            \n",
    "    plt.xlabel('minutes')\n",
    "    plt.ylabel('passes')\n",
    "    plt.scatter(minutes,passes, c=colors)\n",
    "    plt.show()"
   ]
  },
  {
   "cell_type": "markdown",
   "metadata": {},
   "source": [
    "#### <font color = 'red'>another solution of World Cup Data Visualization problem 1</font> "
   ]
  },
  {
   "cell_type": "code",
   "execution_count": 51,
   "metadata": {},
   "outputs": [
    {
     "data": {
      "text/plain": [
       "<matplotlib.collections.PathCollection at 0x18053d8ffa0>"
      ]
     },
     "execution_count": 51,
     "metadata": {},
     "output_type": "execute_result"
    },
    {
     "data": {
      "image/png": "[encoded data removed]",
      "text/plain": [
       "<Figure size 432x288 with 1 Axes>"
      ]
     },
     "metadata": {
      "needs_background": "light"
     },
     "output_type": "display_data"
    }
   ],
   "source": [
    "import numpy as np\n",
    "import pandas as pd\n",
    "import matplotlib.pyplot as plt\n",
    "import seaborn as sns\n",
    "%matplotlib inline\n",
    "df_players = pd.read_csv('Players.csv')\n",
    "\n",
    "newp = df_players\n",
    "passes = newp.passes\n",
    "minutes = newp.minutes\n",
    "import matplotlib.cm as cm\n",
    "plt.scatter(minutes,passes, color= 'red')"
   ]
  },
  {
   "cell_type": "markdown",
   "metadata": {},
   "source": [
    "#### <font color = 'green'>Problem 2</font> \n",
    "Create a pie chart showing the relative percentage of teams with 0, 1, and 2 red cards."
   ]
  },
  {
   "cell_type": "code",
   "execution_count": 48,
   "metadata": {},
   "outputs": [
    {
     "data": {
      "text/html": [
       "<div>\n",
       "<style scoped>\n",
       "    .dataframe tbody tr th:only-of-type {\n",
       "        vertical-align: middle;\n",
       "    }\n",
       "\n",
       "    .dataframe tbody tr th {\n",
       "        vertical-align: top;\n",
       "    }\n",
       "\n",
       "    .dataframe thead th {\n",
       "        text-align: right;\n",
       "    }\n",
       "</style>\n",
       "<table border=\"1\" class=\"dataframe\">\n",
       "  <thead>\n",
       "    <tr style=\"text-align: right;\">\n",
       "      <th></th>\n",
       "      <th>team</th>\n",
       "      <th>ranking</th>\n",
       "      <th>games</th>\n",
       "      <th>wins</th>\n",
       "      <th>draws</th>\n",
       "      <th>losses</th>\n",
       "      <th>goalsFor</th>\n",
       "      <th>goalsAgainst</th>\n",
       "      <th>yellowCards</th>\n",
       "      <th>redCards</th>\n",
       "    </tr>\n",
       "  </thead>\n",
       "  <tbody>\n",
       "    <tr>\n",
       "      <th>0</th>\n",
       "      <td>Brazil</td>\n",
       "      <td>1</td>\n",
       "      <td>5</td>\n",
       "      <td>3</td>\n",
       "      <td>1</td>\n",
       "      <td>1</td>\n",
       "      <td>9</td>\n",
       "      <td>4</td>\n",
       "      <td>7</td>\n",
       "      <td>2</td>\n",
       "    </tr>\n",
       "    <tr>\n",
       "      <th>1</th>\n",
       "      <td>Spain</td>\n",
       "      <td>2</td>\n",
       "      <td>6</td>\n",
       "      <td>5</td>\n",
       "      <td>0</td>\n",
       "      <td>1</td>\n",
       "      <td>7</td>\n",
       "      <td>2</td>\n",
       "      <td>3</td>\n",
       "      <td>0</td>\n",
       "    </tr>\n",
       "  </tbody>\n",
       "</table>\n",
       "</div>"
      ],
      "text/plain": [
       "     team  ranking  games  wins  draws  losses  goalsFor  goalsAgainst  \\\n",
       "0  Brazil        1      5     3      1       1         9             4   \n",
       "1   Spain        2      6     5      0       1         7             2   \n",
       "\n",
       "   yellowCards  redCards  \n",
       "0            7         2  \n",
       "1            3         0  "
      ]
     },
     "execution_count": 48,
     "metadata": {},
     "output_type": "execute_result"
    }
   ],
   "source": [
    "import pandas as pd\n",
    "df = pd.read_csv(\"Teams.csv\")\n",
    "df.head(2)"
   ]
  },
  {
   "cell_type": "code",
   "execution_count": 5,
   "metadata": {},
   "outputs": [
    {
     "data": {
      "image/png": "[encoded data removed]",
      "text/plain": [
       "<Figure size 432x288 with 1 Axes>"
      ]
     },
     "metadata": {},
     "output_type": "display_data"
    }
   ],
   "source": [
    "# Read Players.csv and Teams.csv into lists of dictionarie\n",
    "import matplotlib.pyplot as plt\n",
    "%matplotlib inline\n",
    "import pandas as pd\n",
    "df = pd.read_csv(\"Teams.csv\")\n",
    "\n",
    "with open('Teams.csv','r') as p:\n",
    "    rows = csv.DictReader(p)\n",
    "\n",
    "    redCards_0 = 0\n",
    "    redCards_1 = 0\n",
    "    redCards_2 = 0\n",
    "    for data_readCards in rows:\n",
    "        if int(data_readCards['redCards']) == 0 :\n",
    "            redCards_0+=1\n",
    "        elif int(data_readCards['redCards']) == 1 :\n",
    "            redCards_1+=1\n",
    "        elif int(data_readCards['redCards']) == 2 :\n",
    "            redCards_2+=1\n",
    "        \n",
    "    plt.pie([redCards_0, redCards_1,redCards_2], labels=['redCards 0','redCards 0','redCards 2'], autopct='%1.2f%%')\n",
    "    plt.show()"
   ]
  },
  {
   "cell_type": "markdown",
   "metadata": {},
   "source": [
    "# <font color = 'green'>Titanic Data Visualization</font>"
   ]
  },
  {
   "cell_type": "markdown",
   "metadata": {},
   "source": [
    "#### <font color = 'green'>Problem 1</font> \n",
    "Create a bar chart showing the average fare paid by passengers in each class. The\n",
    "three bars should be labeled 'first', 'second', 'third'."
   ]
  },
  {
   "cell_type": "code",
   "execution_count": 36,
   "metadata": {},
   "outputs": [
    {
     "data": {
      "text/html": [
       "<div>\n",
       "<style scoped>\n",
       "    .dataframe tbody tr th:only-of-type {\n",
       "        vertical-align: middle;\n",
       "    }\n",
       "\n",
       "    .dataframe tbody tr th {\n",
       "        vertical-align: top;\n",
       "    }\n",
       "\n",
       "    .dataframe thead th {\n",
       "        text-align: right;\n",
       "    }\n",
       "</style>\n",
       "<table border=\"1\" class=\"dataframe\">\n",
       "  <thead>\n",
       "    <tr style=\"text-align: right;\">\n",
       "      <th></th>\n",
       "      <th>last</th>\n",
       "      <th>first</th>\n",
       "      <th>gender</th>\n",
       "      <th>age</th>\n",
       "      <th>class</th>\n",
       "      <th>fare</th>\n",
       "      <th>embarked</th>\n",
       "      <th>survived</th>\n",
       "    </tr>\n",
       "  </thead>\n",
       "  <tbody>\n",
       "    <tr>\n",
       "      <th>0</th>\n",
       "      <td>Braund</td>\n",
       "      <td>Mr. Owen Harris</td>\n",
       "      <td>M</td>\n",
       "      <td>22.0</td>\n",
       "      <td>3</td>\n",
       "      <td>7.2500</td>\n",
       "      <td>Southampton</td>\n",
       "      <td>no</td>\n",
       "    </tr>\n",
       "    <tr>\n",
       "      <th>1</th>\n",
       "      <td>Cumings</td>\n",
       "      <td>Mrs. John Bradley (Florence Briggs Thayer)</td>\n",
       "      <td>F</td>\n",
       "      <td>38.0</td>\n",
       "      <td>1</td>\n",
       "      <td>71.2833</td>\n",
       "      <td>Cherbourg</td>\n",
       "      <td>yes</td>\n",
       "    </tr>\n",
       "  </tbody>\n",
       "</table>\n",
       "</div>"
      ],
      "text/plain": [
       "      last                                       first gender   age  class  \\\n",
       "0   Braund                             Mr. Owen Harris      M  22.0      3   \n",
       "1  Cumings  Mrs. John Bradley (Florence Briggs Thayer)      F  38.0      1   \n",
       "\n",
       "      fare     embarked survived  \n",
       "0   7.2500  Southampton       no  \n",
       "1  71.2833    Cherbourg      yes  "
      ]
     },
     "execution_count": 36,
     "metadata": {},
     "output_type": "execute_result"
    }
   ],
   "source": [
    "import pandas as pd\n",
    "df = pd.read_csv(\"Titanic.csv\")\n",
    "df.head(2)"
   ]
  },
  {
   "cell_type": "code",
   "execution_count": 35,
   "metadata": {},
   "outputs": [
    {
     "name": "stdout",
     "output_type": "stream",
     "text": [
      "sum of fare of seperate classes\n",
      " class\n",
      "1    18177.4125\n",
      "2     3801.8417\n",
      "3     6714.6951\n",
      "Name: fare, dtype: float64\n",
      "sum of classes attribute\n",
      " class\n",
      "1    216\n",
      "2    184\n",
      "3    491\n",
      "Name: fare, dtype: int64\n",
      "averages of fare by each classes\n",
      " class\n",
      "1    84.154687\n",
      "2    20.662183\n",
      "3    13.675550\n",
      "Name: fare, dtype: float64\n"
     ]
    },
    {
     "data": {
      "image/png": "[encoded data removed]",
      "text/plain": [
       "<Figure size 432x288 with 1 Axes>"
      ]
     },
     "metadata": {
      "needs_background": "light"
     },
     "output_type": "display_data"
    }
   ],
   "source": [
    "# Read Players.csv and Teams.csv into lists of dictionaries\n",
    "import matplotlib.pyplot as plt\n",
    "%matplotlib inline\n",
    "import pandas as pd\n",
    "df = pd.read_csv(\"Titanic.csv\")\n",
    "\n",
    "with open('Titanic.csv','r') as f:\n",
    "    rows = csv.DictReader(f)\n",
    "\n",
    "    bars = []\n",
    "    heights = []\n",
    "    for r in rows:\n",
    "        class_sum = df.groupby('class')['fare'].apply(lambda x: x.sum())\n",
    "        class_count = df.groupby('class')['fare'].apply(lambda x: x.count())\n",
    "\n",
    "    print('sum of fare of seperate classes\\n',class_sum)\n",
    "    print('sum of classes attribute\\n',class_count)\n",
    "        \n",
    "    heights = class_sum/class_count\n",
    "    print('averages of fare by each classes\\n',heights)\n",
    "        \n",
    "    bars = ['first', 'second', 'third']\n",
    "    plt.xlabel(\"Passenger Class\")\n",
    "    plt.ylabel (\"Average Fare Paid\")\n",
    "    plt.title(\"Average Fare\")\n",
    "    plt.bar(bars, heights, label = \"Avg Fair Paid\", color='red')\n",
    "    plt.show()"
   ]
  },
  {
   "cell_type": "markdown",
   "metadata": {},
   "source": [
    "# <font color = 'green'>World Cup with Pandas</font>"
   ]
  },
  {
   "cell_type": "code",
   "execution_count": 1,
   "metadata": {},
   "outputs": [],
   "source": [
    "import pandas as pd\n",
    "f = open('Players.csv','r')\n",
    "players = pd.read_csv(f)\n",
    "f = open('Teams.csv','r')\n",
    "teams = pd.read_csv(f)"
   ]
  },
  {
   "cell_type": "markdown",
   "metadata": {},
   "source": [
    "#### <font color = 'green'>Problem 1</font> \n",
    "What player on a team with \"ia\" in the team name played less than 200 minutes and\n",
    "made more than 100 passes? Print the player surname."
   ]
  },
  {
   "cell_type": "code",
   "execution_count": 130,
   "metadata": {},
   "outputs": [
    {
     "name": "stdout",
     "output_type": "stream",
     "text": [
      "431    Kuzmanovic\n",
      "Name: surname, dtype: object\n"
     ]
    }
   ],
   "source": [
    "# if 'ia' in i and data_in_minutes<200:\n",
    "import pandas as pd \n",
    "df = pd.read_csv(\"players.csv\")\n",
    "\n",
    "data_in_minutes = df.minutes\n",
    "data_in_passes = df.passes\n",
    "data_in_team = df.team\n",
    "data_in_surname = df.surname\n",
    "\n",
    "ans = df[(data_in_minutes < 200) & (data_in_passes >100) & data_in_team.str.contains('ia') & data_in_surname]\n",
    "final_ans = ans.surname\n",
    "print(final_ans)"
   ]
  },
  {
   "cell_type": "markdown",
   "metadata": {},
   "source": [
    "#### <font color = 'red'>problem 1 another solution </font>"
   ]
  },
  {
   "cell_type": "code",
   "execution_count": 131,
   "metadata": {},
   "outputs": [
    {
     "name": "stdout",
     "output_type": "stream",
     "text": [
      "Kuzmanovic\n"
     ]
    }
   ],
   "source": [
    "with open('players.csv','r') as f:\n",
    "    rows = csv.DictReader(f)\n",
    "    for data in rows:\n",
    "        if 'ia' in data['team'] and (int(data['minutes']) < 200 and int(data['passes'])>100):\n",
    "            print(data['surname'])"
   ]
  },
  {
   "cell_type": "markdown",
   "metadata": {},
   "source": [
    "# <font color = 'green'>Titanic with Pandas</font>"
   ]
  },
  {
   "cell_type": "markdown",
   "metadata": {},
   "source": [
    "#### <font color = 'green'>Problem 1</font>\n",
    "List the average fare paid by passengers in each of the embarkation cities."
   ]
  },
  {
   "cell_type": "code",
   "execution_count": 132,
   "metadata": {},
   "outputs": [
    {
     "name": "stdout",
     "output_type": "stream",
     "text": [
      "Listed the average fare paid by passengers in each of the embarkation cities embarked\n",
      "Cherbourg      59.954144\n",
      "Queenstown     13.276030\n",
      "Southampton    27.243651\n",
      "Name: fare, dtype: float64\n"
     ]
    }
   ],
   "source": [
    "import pandas as pd \n",
    "Titanic_df = pd.read_csv(\"Titanic.csv\")\n",
    "ans = Titanic_df.groupby('embarked')['fare'].apply(lambda x: x.sum())\n",
    "\n",
    "ans2 = Titanic_df.groupby('embarked')['fare'].apply(lambda x: x.count())\n",
    "\n",
    "average_fare = ans/ans2\n",
    "print('Listed the average fare paid by passengers in each of the embarkation cities',average_fare)"
   ]
  },
  {
   "cell_type": "markdown",
   "metadata": {},
   "source": [
    "#### <font color = 'red'>problem 1 another solution</font>"
   ]
  },
  {
   "cell_type": "code",
   "execution_count": 83,
   "metadata": {},
   "outputs": [
    {
     "name": "stdout",
     "output_type": "stream",
     "text": [
      "embarked\n",
      "Cherbourg      10072.2962\n",
      "Queenstown      1022.2543\n",
      "Southampton    17599.3988\n",
      "Name: fare, dtype: float64\n",
      " \n",
      "Cherbourg avg fare  =  59.95414404761905\n",
      "Southampton avg fare =  27.243651393188795\n",
      "Queenstown avg fare =  13.276029870129872\n"
     ]
    }
   ],
   "source": [
    "# select embarked, avg(fare) from Titanic group by embarked order by avg(fare) desc\n",
    "# avg = int(data['goalsFor'])/int(data['goalsAgainst'])\n",
    "\n",
    "with open('Titanic.csv','r') as f:\n",
    "    rows = csv.DictReader(f)\n",
    "    df = pd.read_csv(\"Titanic.csv\") \n",
    "    \n",
    "    Cherbourg_list = []\n",
    "    count_Cherbourg =0\n",
    "    \n",
    "    Southampton_list = []\n",
    "    count_Southampton = 0\n",
    "    \n",
    "    Queenstown_list = []\n",
    "    count_Queenstown = 0\n",
    "    \n",
    "        \n",
    "    #uniq = df.groupby('embarked')\n",
    "    uniq = df.groupby('embarked')['fare'].apply(lambda x: x.sum())\n",
    "    #uniq = df.groupby('embarked').apply(sum)\n",
    "     \n",
    "    print(uniq)\n",
    "    \n",
    "    print(' ')\n",
    "    \n",
    "    for data in rows:\n",
    "        #fare = count(fare)\n",
    "                \n",
    "        if 'Cherbourg' in data['embarked']:\n",
    "            count_Cherbourg = count_Cherbourg+1\n",
    "            Cherbourg_list.append(float(data['fare']))\n",
    "            \n",
    "        elif 'Southampton' in data['embarked']:\n",
    "            count_Southampton = count_Southampton+1\n",
    "            Southampton_list.append(float(data['fare']))\n",
    "        \n",
    "        elif 'Queenstown' in data['embarked']:\n",
    "            count_Queenstown = count_Queenstown+1\n",
    "            Queenstown_list.append(float(data['fare']))\n",
    "            \n",
    "    \n",
    "    Cherbourg_sum = 0\n",
    "    Southampton_sum = 0\n",
    "    Queenstown_sum =0\n",
    "    \n",
    "    \n",
    "    for num in Cherbourg_list:\n",
    "        Cherbourg_sum += float(num)\n",
    "    Cherbourg_result = Cherbourg_sum/count_Cherbourg\n",
    "    \n",
    "    for num1 in Southampton_list:\n",
    "        Southampton_sum += float(num1)\n",
    "    Southampton_result = Southampton_sum/count_Southampton\n",
    "    \n",
    "    for num2 in Queenstown_list:\n",
    "        Queenstown_sum += float(num2)\n",
    "    Queenstown_result = Queenstown_sum/count_Queenstown\n",
    "    \n",
    "    print('Cherbourg avg fare  = ',Cherbourg_result)\n",
    "    print('Southampton avg fare = ',Southampton_result)\n",
    "    print('Queenstown avg fare = ',Queenstown_result)\n",
    "            "
   ]
  }
 ],
 "metadata": {
  "kernelspec": {
   "display_name": "Python 3",
   "language": "python",
   "name": "python3"
  },
  "language_info": {
   "codemirror_mode": {
    "name": "ipython",
    "version": 3
   },
   "file_extension": ".py",
   "mimetype": "text/x-python",
   "name": "python",
   "nbconvert_exporter": "python",
   "pygments_lexer": "ipython3",
   "version": "3.8.3"
  }
 },
 "nbformat": 4,
 "nbformat_minor": 1
}
